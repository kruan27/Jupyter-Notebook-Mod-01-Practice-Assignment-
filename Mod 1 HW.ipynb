{
 "cells": [
  {
   "cell_type": "markdown",
   "id": "742d30f6",
   "metadata": {},
   "source": [
    "1. Accept the user's first and last name and print them in reverse order with a space between them"
   ]
  },
  {
   "cell_type": "code",
   "execution_count": 3,
   "id": "88d84d9e",
   "metadata": {
    "scrolled": true
   },
   "outputs": [
    {
     "name": "stdout",
     "output_type": "stream",
     "text": [
      "Input your First Name:  Katie\n",
      "Input your Last Name:  Ruan\n",
      "Hello Ruan Katie\n"
     ]
    }
   ],
   "source": [
    "x = \"Katie\"\n",
    "y = \"Ruan\"\n",
    "print (\"Input your First Name: \", x)\n",
    "print (\"Input your Last Name: \", y)\n",
    "print (\"Hello\", y, x,)"
   ]
  },
  {
   "cell_type": "markdown",
   "id": "88433dfb",
   "metadata": {},
   "source": [
    "2. Accept an integer (n) input from the user and compute the value of n+nn+nnn. For example if n=4 then n + nn + nnn = 4 + 44 + 444 = 492 "
   ]
  },
  {
   "cell_type": "code",
   "execution_count": 29,
   "id": "319376c6",
   "metadata": {
    "scrolled": true
   },
   "outputs": [
    {
     "name": "stdout",
     "output_type": "stream",
     "text": [
      "Please input an integer value:  2\n",
      "n = 2 + 22 + 222 = 246\n"
     ]
    }
   ],
   "source": [
    "n = 2\n",
    "print (\"Please input an integer value: \", str(n))\n",
    "x = str(n) + str(n)\n",
    "y = str(n) + str(n) + str(n)\n",
    "print (\"n =\",n, \"+\", x, \"+\", y, \"=\", n + int(x) + int(y))"
   ]
  },
  {
   "cell_type": "markdown",
   "id": "44765bdc",
   "metadata": {},
   "source": [
    "3. Ask the user \"What country are you from?\" then print the following statement: \"I have heard that [input] is a beautiful country!\" "
   ]
  },
  {
   "cell_type": "code",
   "execution_count": 7,
   "id": "693f417e",
   "metadata": {},
   "outputs": [
    {
     "name": "stdout",
     "output_type": "stream",
     "text": [
      "What country are you from?:  Australia\n",
      "I have heard that  Australia  is a beautiful country!\n"
     ]
    }
   ],
   "source": [
    "x = \"Australia\"\n",
    "print (\"What country are you from?: \", x)\n",
    "print (\"I have heard that \", x, \" is a beautiful country!\")"
   ]
  },
  {
   "cell_type": "markdown",
   "id": "fedbeadb",
   "metadata": {},
   "source": [
    "4. What is the output of the following Python code"
   ]
  },
  {
   "cell_type": "code",
   "execution_count": 9,
   "id": "de872602",
   "metadata": {},
   "outputs": [],
   "source": [
    "x = 10 #declares x\n",
    "y = 50 #declares y\n",
    "if (x ** 2 > 100 and y < 100):\n",
    "    print(x, y)"
   ]
  },
  {
   "cell_type": "markdown",
   "id": "689a550a",
   "metadata": {},
   "source": [
    "If x raised to the power of 2 is greater than 100 AND the value of y is less than 100, THEN print out the values.\n",
    "The values will not print because 10^2 is 100, which is not greater than 100."
   ]
  },
  {
   "cell_type": "markdown",
   "id": "8550c1ea",
   "metadata": {},
   "source": [
    "5. What is the output of the following addition (+) operator, and why does this code chunk execute this way?"
   ]
  },
  {
   "cell_type": "code",
   "execution_count": 10,
   "id": "7578d25c",
   "metadata": {},
   "outputs": [
    {
     "name": "stdout",
     "output_type": "stream",
     "text": [
      "[10, 20, 30, 40]\n",
      "[10, 20, 30, 40]\n"
     ]
    }
   ],
   "source": [
    "a = [10, 20]\n",
    "b = a \n",
    "b += [30, 40] \n",
    "print(a)\n",
    "print(b)"
   ]
  },
  {
   "cell_type": "markdown",
   "id": "9d92f7d9",
   "metadata": {},
   "source": [
    "The first line of code assigns a to [10, 20]. The second line of code assigns Variable b to a. Then b is assigned and added to [30, 40], thus a is also assigned and added to [30, 40], which will make both variables [10, 20, 30, 40]."
   ]
  },
  {
   "cell_type": "markdown",
   "id": "d9930a83",
   "metadata": {},
   "source": [
    "6. What is the output of the following code and what arithmetic operators is being used here? print(2%6)?\n",
    "The output will be 2 because it outputs the integer remainder of the division of 2 and 6."
   ]
  },
  {
   "cell_type": "code",
   "execution_count": 1,
   "id": "bfe27361",
   "metadata": {
    "scrolled": true
   },
   "outputs": [
    {
     "name": "stdout",
     "output_type": "stream",
     "text": [
      "2\n"
     ]
    }
   ],
   "source": [
    "print (2%6)"
   ]
  },
  {
   "cell_type": "markdown",
   "id": "21f610ed",
   "metadata": {},
   "source": [
    "7. What is the output of the following code and what arithmetic operators are used here? print(2 * 3 ** 3 * 4)?\n",
    "The output of the following code is 216. The code uses two operation, multiplication and exponentiation."
   ]
  },
  {
   "cell_type": "code",
   "execution_count": 7,
   "id": "32ee7290",
   "metadata": {},
   "outputs": [
    {
     "name": "stdout",
     "output_type": "stream",
     "text": [
      "216\n"
     ]
    }
   ],
   "source": [
    "print (2 * 3 ** 3 * 4)"
   ]
  },
  {
   "cell_type": "markdown",
   "id": "f4c85b49",
   "metadata": {},
   "source": [
    "8. What is a text editor?\n",
    "A text editor is a software program that edits in plain text. It is often useful to use a text editor for for marking up codes.\n",
    "9. What is python?\n",
    "Python is a coding language created 31 years ago that is easy to use and known for its readability and clean syntax. It is relatively easy to learn for both beginners and veterans of coding.\n",
    "10. What is jupyter notebook, what type of python environment is it, and what alternatives are there to jupyter notebook?\n",
    "Jupyter notebook is an online open-source web-based interative development environment for notebooks, code, and data. It provides flexibility in editing code and interface for efficiency in data science, computing, and machine learning. Jupyter uses IPython Kernel to run Python codes. The top three other alternatives to Jupyter notebook are Eclipse, PyCharm, and AWS Cloud9."
   ]
  }
 ],
 "metadata": {
  "kernelspec": {
   "display_name": "Python 3 (ipykernel)",
   "language": "python",
   "name": "python3"
  },
  "language_info": {
   "codemirror_mode": {
    "name": "ipython",
    "version": 3
   },
   "file_extension": ".py",
   "mimetype": "text/x-python",
   "name": "python",
   "nbconvert_exporter": "python",
   "pygments_lexer": "ipython3",
   "version": "3.9.12"
  }
 },
 "nbformat": 4,
 "nbformat_minor": 5
}
